{
 "cells": [
  {
   "cell_type": "markdown",
   "id": "f87a003b",
   "metadata": {},
   "source": [
    "### Strings"
   ]
  },
  {
   "cell_type": "markdown",
   "id": "86bffb72",
   "metadata": {},
   "source": [
    "Criando uma String\n",
    "Para criar uma string em python você pode usar aspas simples ou duplas. Por exemplo:"
   ]
  },
  {
   "cell_type": "code",
   "execution_count": null,
   "id": "96f315bc",
   "metadata": {},
   "outputs": [],
   "source": [
    "# Uma única palavra\n",
    "'oi'"
   ]
  },
  {
   "cell_type": "code",
   "execution_count": null,
   "id": "ab1789b4",
   "metadata": {},
   "outputs": [],
   "source": [
    "# Uma frase\n",
    "'Criando uma string em python'"
   ]
  },
  {
   "cell_type": "code",
   "execution_count": null,
   "id": "6c73890c",
   "metadata": {},
   "outputs": [],
   "source": [
    "# Podemos usar aspas duplas\n",
    "\"Podemos usar aspas duplas ou simples para strings em python\""
   ]
  },
  {
   "cell_type": "code",
   "execution_count": null,
   "id": "02380f30",
   "metadata": {},
   "outputs": [],
   "source": [
    "# Você pode combinar aspas duplas e simples\n",
    "\"Testando strings em 'Python'\""
   ]
  },
  {
   "cell_type": "markdown",
   "id": "7e1d99ad",
   "metadata": {},
   "source": [
    "### Imprimindo uma String"
   ]
  },
  {
   "cell_type": "code",
   "execution_count": 1,
   "id": "cf225d8b",
   "metadata": {},
   "outputs": [
    {
     "name": "stdout",
     "output_type": "stream",
     "text": [
      "Testando Strings em python\n"
     ]
    }
   ],
   "source": [
    "print('Testando Strings em python')"
   ]
  },
  {
   "cell_type": "code",
   "execution_count": 2,
   "id": "469ac8a0",
   "metadata": {},
   "outputs": [
    {
     "name": "stdout",
     "output_type": "stream",
     "text": [
      "Testando \n",
      "Strings em python\n"
     ]
    }
   ],
   "source": [
    "print('Testando \\nStrings em python')"
   ]
  },
  {
   "cell_type": "code",
   "execution_count": 3,
   "id": "65cb4376",
   "metadata": {},
   "outputs": [
    {
     "name": "stdout",
     "output_type": "stream",
     "text": [
      "\n",
      "\n"
     ]
    }
   ],
   "source": [
    "print('\\n')"
   ]
  },
  {
   "cell_type": "code",
   "execution_count": null,
   "id": "4d066dbb",
   "metadata": {},
   "outputs": [],
   "source": []
  }
 ],
 "metadata": {
  "kernelspec": {
   "display_name": "Python 3",
   "language": "python",
   "name": "python3"
  },
  "language_info": {
   "codemirror_mode": {
    "name": "ipython",
    "version": 3
   },
   "file_extension": ".py",
   "mimetype": "text/x-python",
   "name": "python",
   "nbconvert_exporter": "python",
   "pygments_lexer": "ipython3",
   "version": "3.8.8"
  }
 },
 "nbformat": 4,
 "nbformat_minor": 5
}
